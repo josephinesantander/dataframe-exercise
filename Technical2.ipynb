{
  "nbformat": 4,
  "nbformat_minor": 0,
  "metadata": {
    "colab": {
      "provenance": [],
      "authorship_tag": "ABX9TyP362YxSgBN1Ilk0bzUFtag",
      "include_colab_link": true
    },
    "kernelspec": {
      "name": "python3",
      "display_name": "Python 3"
    },
    "language_info": {
      "name": "python"
    }
  },
  "cells": [
    {
      "cell_type": "markdown",
      "metadata": {
        "id": "view-in-github",
        "colab_type": "text"
      },
      "source": [
        "<a href=\"https://colab.research.google.com/github/josephinesantander/dataframe-exercise/blob/main/Technical2.ipynb\" target=\"_parent\"><img src=\"https://colab.research.google.com/assets/colab-badge.svg\" alt=\"Open In Colab\"/></a>"
      ]
    },
    {
      "cell_type": "code",
      "execution_count": 4,
      "metadata": {
        "colab": {
          "base_uri": "https://localhost:8080/"
        },
        "id": "F_lRNQScdJJB",
        "outputId": "adbe219a-76df-4e5b-90d0-0c5e6f09769c"
      },
      "outputs": [
        {
          "output_type": "stream",
          "name": "stdout",
          "text": [
            "   OrderID   Product     Category  Quantity  Price Customer Region  Total\n",
            "0     1001    Laptop  Electronics         2    800    Alice  North   1600\n",
            "1     1002     Mouse  Accessories         5     20      Bob  South    100\n",
            "2     1003  Keyboard  Accessories         3     50  Charlie   East    150\n",
            "3     1004   Monitor  Electronics         4    200    Diana   West    800\n",
            "4     1005    Laptop  Electronics         1    850    Ethan  North    850\n"
          ]
        }
      ],
      "source": [
        "#1. Create a DataFrame\n",
        "  # Create the DataFrame using the given sales dataset.\n",
        "  # Print the first 5 rows.\n",
        "\n",
        "import pandas as pd\n",
        "\n",
        "# Sample sales dataset (20 rows)\n",
        "data = {\n",
        "    \"OrderID\": range(1001, 1021),\n",
        "    \"Product\": [\n",
        "        \"Laptop\", \"Mouse\", \"Keyboard\", \"Monitor\", \"Laptop\",\n",
        "        \"Headphones\", \"Mouse\", \"Chair\", \"Desk\", \"Laptop\",\n",
        "        \"Printer\", \"Keyboard\", \"Monitor\", \"Mouse\", \"Laptop\",\n",
        "        \"Headphones\", \"Desk\", \"Monitor\", \"Printer\", \"Chair\"\n",
        "    ],\n",
        "    \"Category\": [\n",
        "        \"Electronics\", \"Accessories\", \"Accessories\", \"Electronics\", \"Electronics\",\n",
        "        \"Accessories\", \"Accessories\", \"Furniture\", \"Furniture\", \"Electronics\",\n",
        "        \"Electronics\", \"Accessories\", \"Electronics\", \"Accessories\", \"Electronics\",\n",
        "        \"Accessories\", \"Furniture\", \"Electronics\", \"Electronics\", \"Furniture\"\n",
        "    ],\n",
        "    \"Quantity\": [2, 5, 3, 4, 1, 6, 10, 2, 1, 3, 2, 4, 2, 7, 5, 3, 2, 4, 1, 6],\n",
        "    \"Price\": [800, 20, 50, 200, 850, 40, 25, 150, 300, 900, 120, 55, 250, 20, 750, 35, 280, 220, 110, 180],\n",
        "    \"Customer\": [\n",
        "        \"Alice\", \"Bob\", \"Charlie\", \"Diana\", \"Ethan\",\n",
        "        \"Fiona\", \"George\", \"Hannah\", \"Ian\", \"Jane\",\n",
        "        \"Kyle\", \"Laura\", \"Mike\", \"Nina\", \"Oscar\",\n",
        "        \"Paul\", \"Queen\", \"Robert\", \"Sarah\", \"Tom\"\n",
        "    ],\n",
        "    \"Region\": [\n",
        "        \"North\", \"South\", \"East\", \"West\", \"North\",\n",
        "        \"South\", \"East\", \"West\", \"North\", \"South\",\n",
        "        \"East\", \"West\", \"North\", \"South\", \"East\",\n",
        "        \"West\", \"North\", \"South\", \"East\", \"West\"\n",
        "    ]\n",
        "}\n",
        "\n",
        "# Create DataFrame\n",
        "df = pd.DataFrame(data)\n",
        "\n",
        "# Compute Total column\n",
        "df[\"Total\"] = df[\"Quantity\"] * df[\"Price\"]\n",
        "\n",
        "# Print the first 5 rows\n",
        "print(df.head())"
      ]
    },
    {
      "cell_type": "code",
      "source": [
        "#1.1. Print the number of rows and columnns\n",
        "\n",
        "print(\"Number of rows and columns:\", df.shape)"
      ],
      "metadata": {
        "colab": {
          "base_uri": "https://localhost:8080/"
        },
        "id": "5Q78eCPAe4Gb",
        "outputId": "87992d13-08ec-4f08-ff30-a51125f50285"
      },
      "execution_count": 66,
      "outputs": [
        {
          "output_type": "stream",
          "name": "stdout",
          "text": [
            "Number of rows and columns: (40, 8)\n"
          ]
        }
      ]
    },
    {
      "cell_type": "code",
      "source": [
        "#1.2. Show the column name\n",
        "\n",
        "print(\"Column names:\", df.columns.tolist())"
      ],
      "metadata": {
        "colab": {
          "base_uri": "https://localhost:8080/"
        },
        "id": "Z3WOldUQkiQW",
        "outputId": "dc88ae48-61cb-44d9-ec0a-c9af39f9b063"
      },
      "execution_count": 67,
      "outputs": [
        {
          "output_type": "stream",
          "name": "stdout",
          "text": [
            "Column names: ['OrderID', 'Product', 'Category', 'Quantity', 'Price', 'Customer', 'Region', 'Total']\n"
          ]
        }
      ]
    },
    {
      "cell_type": "code",
      "source": [
        "#2. Adding a Column\n",
        "\n",
        "df = pd.DataFrame(data)\n",
        "\n",
        "# Step 2: Compute Total column\n",
        "df[\"Total\"] = df[\"Quantity\"] * df[\"Price\"]\n",
        "\n",
        "# Step 3: Add Discount column (10% if Quantity >= 5 else 0)\n",
        "df[\"Discount\"] = df.apply(lambda row: row[\"Total\"] * 0.10 if row[\"Quantity\"] >= 5 else 0, axis=1)\n",
        "\n",
        "# Step 4: Add FinalTotal column (Total - Discount)\n",
        "df[\"FinalTotal\"] = df[\"Total\"] - df[\"Discount\"]\n",
        "\n",
        "# Step 5: Show selected columns\n",
        "print(df[[\"OrderID\", \"Product\", \"Total\", \"Discount\", \"FinalTotal\"]].head())"
      ],
      "metadata": {
        "colab": {
          "base_uri": "https://localhost:8080/"
        },
        "id": "hRxzB3FOn6rN",
        "outputId": "b6f87b68-8da0-45d1-fee4-15122bb1086e"
      },
      "execution_count": 11,
      "outputs": [
        {
          "output_type": "stream",
          "name": "stdout",
          "text": [
            "   OrderID   Product  Total  Discount  FinalTotal\n",
            "0     1001    Laptop   1600       0.0      1600.0\n",
            "1     1002     Mouse    100      10.0        90.0\n",
            "2     1003  Keyboard    150       0.0       150.0\n",
            "3     1004   Monitor    800       0.0       800.0\n",
            "4     1005    Laptop    850       0.0       850.0\n"
          ]
        }
      ]
    },
    {
      "cell_type": "code",
      "source": [
        "#2.1. Add a \"Discount\" column where orders with Quantity >= 5 get a 10% discount, otherwise 0%\n",
        "\n",
        "df = pd.DataFrame(data)\n",
        "\n",
        "# Step 2: Compute Total column\n",
        "df[\"Total\"] = df[\"Quantity\"] * df[\"Price\"]\n",
        "\n",
        "# Step 3: Add Discount column (10% if Quantity >= 5 else 0)\n",
        "df[\"Discount\"] = df[\"Total\"] * (df[\"Quantity\"] >= 5) * 0.10\n",
        "\n",
        "# Step 4: Show selected columns (without FinalTotal)\n",
        "print(df[[\"OrderID\", \"Product\", \"Total\", \"Discount\"]].head())"
      ],
      "metadata": {
        "colab": {
          "base_uri": "https://localhost:8080/"
        },
        "id": "XrxEaP4Ln_fQ",
        "outputId": "b1c1634a-5e57-44a2-cd1f-b17d61951d0f"
      },
      "execution_count": 69,
      "outputs": [
        {
          "output_type": "stream",
          "name": "stdout",
          "text": [
            "   OrderID   Product  Total  Discount\n",
            "0     1001    Laptop   1600       0.0\n",
            "1     1002     Mouse    100      10.0\n",
            "2     1003  Keyboard    150       0.0\n",
            "3     1004   Monitor    800       0.0\n",
            "4     1005    Laptop    850       0.0\n"
          ]
        }
      ]
    },
    {
      "cell_type": "code",
      "source": [
        "#2.2. Add a \"FinalTotal\" column computed as Total - (Total * Discount)\n",
        "\n",
        "df = pd.DataFrame(data)\n",
        "\n",
        "# Step 2: Compute Total column\n",
        "df[\"Total\"] = df[\"Quantity\"] * df[\"Price\"]\n",
        "\n",
        "# Step 3: Add Discount column as a rate (10% if Quantity >= 5, else 0%)\n",
        "df[\"Discount\"] = (df[\"Quantity\"] >= 5) * 0.10\n",
        "\n",
        "# Step 4: Compute FinalTotal using the discount rate\n",
        "df[\"FinalTotal\"] = df[\"Total\"] - (df[\"Total\"] * df[\"Discount\"])\n",
        "\n",
        "# Step 5: Show selected columns\n",
        "print(df[[\"OrderID\", \"Product\", \"Quantity\", \"Total\", \"Discount\", \"FinalTotal\"]].head())"
      ],
      "metadata": {
        "colab": {
          "base_uri": "https://localhost:8080/"
        },
        "id": "hgS5o5EtrTLn",
        "outputId": "a1fa89a8-b5ea-4eb2-92ed-c3cc3d57cddb"
      },
      "execution_count": 20,
      "outputs": [
        {
          "output_type": "stream",
          "name": "stdout",
          "text": [
            "   OrderID   Product  Quantity  Total  Discount  FinalTotal\n",
            "0     1001    Laptop         2   1600       0.0      1600.0\n",
            "1     1002     Mouse         5    100       0.1        90.0\n",
            "2     1003  Keyboard         3    150       0.0       150.0\n",
            "3     1004   Monitor         4    800       0.0       800.0\n",
            "4     1005    Laptop         1    850       0.0       850.0\n"
          ]
        }
      ]
    },
    {
      "cell_type": "code",
      "source": [
        "#2.3. Print only the OrderID, Product, Total, Discount, and FinalTotal columns\n",
        "\n",
        "print(df[[\"OrderID\", \"Product\", \"Total\", \"Discount\", \"FinalTotal\"]].head())"
      ],
      "metadata": {
        "colab": {
          "base_uri": "https://localhost:8080/"
        },
        "id": "plmkiFAKtwEn",
        "outputId": "61b3a440-d1b7-4275-d1ae-b62a99917cbd"
      },
      "execution_count": 23,
      "outputs": [
        {
          "output_type": "stream",
          "name": "stdout",
          "text": [
            "   OrderID   Product  Total  Discount  FinalTotal\n",
            "0     1001    Laptop   1600       0.0      1600.0\n",
            "1     1002     Mouse    100       0.1        90.0\n",
            "2     1003  Keyboard    150       0.0       150.0\n",
            "3     1004   Monitor    800       0.0       800.0\n",
            "4     1005    Laptop    850       0.0       850.0\n"
          ]
        }
      ]
    },
    {
      "cell_type": "code",
      "source": [
        "#3. Adding a Row\n",
        "\n",
        "df = pd.DataFrame(data)\n",
        "\n",
        "# Step 2: Compute Total column\n",
        "df[\"Total\"] = df[\"Quantity\"] * df[\"Price\"]\n",
        "\n",
        "# Step 3: Create new record\n",
        "new_row = {\n",
        "    \"OrderID\": 1021,\n",
        "    \"Product\": \"Tablet\",\n",
        "    \"Category\": \"Electronics\",\n",
        "    \"Quantity\": 2,\n",
        "    \"Price\": 450,\n",
        "    \"Customer\": \"Victor\",\n",
        "    \"Region\": \"East\"\n",
        "}\n",
        "\n",
        "# Step 4: Append to DataFrame\n",
        "df = pd.concat([df, pd.DataFrame([new_row])], ignore_index=True)\n",
        "\n",
        "# Step 5: Recalculate Total\n",
        "df[\"Total\"] = df[\"Quantity\"] * df[\"Price\"]\n",
        "\n",
        "# Step 6: Show last 3 rows\n",
        "print(df.tail(3))"
      ],
      "metadata": {
        "colab": {
          "base_uri": "https://localhost:8080/"
        },
        "id": "MFTeh8tdwE4R",
        "outputId": "548616d0-4de0-4704-e48c-59a42451c392"
      },
      "execution_count": 29,
      "outputs": [
        {
          "output_type": "stream",
          "name": "stdout",
          "text": [
            "    OrderID  Product     Category  Quantity  Price Customer Region  Total\n",
            "18     1019  Printer  Electronics         1    110    Sarah   East    110\n",
            "19     1020    Chair    Furniture         6    180      Tom   West   1080\n",
            "20     1021   Tablet  Electronics         2    450   Victor   East    900\n"
          ]
        }
      ]
    },
    {
      "cell_type": "code",
      "source": [
        "#3.1. Add a new sales record: OrderID=1021, Product=\"Tablet\", Category=\"Electronics\", Quantity=2, Price=450, Customer=\"Victor\", Region=\"East\"\n",
        "\n",
        "# Step 1: Create new record\n",
        "new_row = {\n",
        "    \"OrderID\": 1021,\n",
        "    \"Product\": \"Tablet\",\n",
        "    \"Category\": \"Electronics\",\n",
        "    \"Quantity\": 2,\n",
        "    \"Price\": 450,\n",
        "    \"Customer\": \"Victor\",\n",
        "    \"Region\": \"East\"\n",
        "}\n",
        "\n",
        "# Step 2: Append to DataFrame\n",
        "df = pd.concat([df, pd.DataFrame([new_row])], ignore_index=True)\n",
        "\n",
        "# Step 3: Recalculate Total, Discount, and FinalTotal\n",
        "df[\"Total\"] = df[\"Quantity\"] * df[\"Price\"]\n",
        "df[\"Discount\"] = df[\"Total\"] * (df[\"Quantity\"] >= 5) * 0.10\n",
        "df[\"FinalTotal\"] = df[\"Total\"] - df[\"Discount\"]\n",
        "\n",
        "# Step 4: Show last 3 rows\n",
        "print(df[[\"OrderID\", \"Product\", \"Category\", \"Quantity\", \"Price\", \"Customer\", \"Region\"]].tail(3))"
      ],
      "metadata": {
        "colab": {
          "base_uri": "https://localhost:8080/"
        },
        "id": "_OXt-ml-0cfx",
        "outputId": "8852b327-9e94-4ceb-bde9-bf5af3f378ce"
      },
      "execution_count": 46,
      "outputs": [
        {
          "output_type": "stream",
          "name": "stdout",
          "text": [
            "    OrderID Product     Category  Quantity  Price Customer Region\n",
            "29     1021  Tablet  Electronics         2    450   Victor   East\n",
            "30     1021  Tablet  Electronics         2    450   Victor   East\n",
            "31     1021  Tablet  Electronics         2    450   Victor   East\n"
          ]
        }
      ]
    },
    {
      "cell_type": "code",
      "source": [
        "#3.2. Recalculate the \"Total\" column for the new row\n",
        "\n",
        "# Step 1: Create new record\n",
        "new_row = {\n",
        "    \"OrderID\": 1021,\n",
        "    \"Product\": \"Tablet\",\n",
        "    \"Category\": \"Electronics\",\n",
        "    \"Quantity\": 2,\n",
        "    \"Price\": 450,\n",
        "    \"Customer\": \"Victor\",\n",
        "    \"Region\": \"East\"\n",
        "}\n",
        "\n",
        "# Step 2: Append to DataFrame\n",
        "df = pd.concat([df, pd.DataFrame([new_row])], ignore_index=True)\n",
        "\n",
        "# Step 3: Recalculate Total, Discount, and FinalTotal\n",
        "df[\"Total\"] = df[\"Quantity\"] * df[\"Price\"]\n",
        "df[\"Discount\"] = df[\"Total\"] * (df[\"Quantity\"] >= 5) * 0.10\n",
        "df[\"FinalTotal\"] = df[\"Total\"] - df[\"Discount\"]\n",
        "\n",
        "# Step 4: Show last 3 rows\n",
        "print(df[[\"OrderID\", \"Product\", \"Category\", \"Quantity\", \"Price\", \"Customer\", \"Region\", \"Total\"]].tail(3))\n",
        "\n",
        "# Recalculate \"Total\" for the new row only\n",
        "df.at[df.index[-1], \"Total\"] = df.at[df.index[-1], \"Quantity\"] * df.at[df.index[-1], \"Price\"]\n"
      ],
      "metadata": {
        "colab": {
          "base_uri": "https://localhost:8080/"
        },
        "id": "R8aQwS_j1R2a",
        "outputId": "96c73a19-063a-40cd-c08a-cd04674f1cd6"
      },
      "execution_count": 50,
      "outputs": [
        {
          "output_type": "stream",
          "name": "stdout",
          "text": [
            "    OrderID Product     Category  Quantity  Price Customer Region  Total\n",
            "33     1021  Tablet  Electronics         2    450   Victor   East    900\n",
            "34     1021  Tablet  Electronics         2    450   Victor   East    900\n",
            "35     1021  Tablet  Electronics         2    450   Victor   East    900\n"
          ]
        }
      ]
    },
    {
      "cell_type": "code",
      "source": [
        "#3.3. Verify the new row is added by printing the last 3 rows.\n",
        "\n",
        "# Step 1: Create new record\n",
        "new_row = {\n",
        "    \"OrderID\": 1021,\n",
        "    \"Product\": \"Tablet\",\n",
        "    \"Category\": \"Electronics\",\n",
        "    \"Quantity\": 2,\n",
        "    \"Price\": 450,\n",
        "    \"Customer\": \"Victor\",\n",
        "    \"Region\": \"East\"\n",
        "}\n",
        "\n",
        "# Step 2: Append to DataFrame\n",
        "df = pd.concat([df, pd.DataFrame([new_row])], ignore_index=True)\n",
        "\n",
        "# Step 3: Recalculate Total, Discount, and FinalTotal for all rows\n",
        "df[\"Total\"] = df[\"Quantity\"] * df[\"Price\"]\n",
        "df[\"Discount\"] = df[\"Total\"] * (df[\"Quantity\"] >= 5) * 0.10\n",
        "df[\"FinalTotal\"] = df[\"Total\"] - df[\"Discount\"]\n",
        "\n",
        "# Step 4: Show last 3 rows to verify new entry\n",
        "print(df[[\"OrderID\", \"Product\", \"Category\", \"Quantity\", \"Price\", \"Customer\", \"Region\", \"Total\"]].tail(3).to_string(index=False))\n",
        "\n",
        "# Step 5: Recalculate \"Total\" for the new row only (redundant but explicit)\n",
        "df.at[df.index[-1], \"Total\"] = df.at[df.index[-1], \"Quantity\"] * df.at[df.index[-1], \"Price\"]"
      ],
      "metadata": {
        "colab": {
          "base_uri": "https://localhost:8080/"
        },
        "id": "e4aR1bDu5rFA",
        "outputId": "fe4be820-2d81-4db2-c6cc-8bd806ad97b9"
      },
      "execution_count": 54,
      "outputs": [
        {
          "output_type": "stream",
          "name": "stdout",
          "text": [
            " OrderID Product    Category  Quantity  Price Customer Region  Total\n",
            "    1021  Tablet Electronics         2    450   Victor   East    900\n",
            "    1021  Tablet Electronics         2    450   Victor   East    900\n",
            "    1021  Tablet Electronics         2    450   Victor   East    900\n"
          ]
        }
      ]
    },
    {
      "cell_type": "code",
      "source": [
        "#4. Modifying Column Values\n",
        "\n",
        "#4.1. Change the \"Price\" of all \"Mouse\" products to 30\n",
        "\n",
        "# Step 1: Update price of Mouse products\n",
        "df.loc[df[\"Product\"] == \"Mouse\", \"Price\"] = 30  # ← new price assigned\n",
        "\n",
        "# Step 2: Recalculate Total for affected rows\n",
        "df[\"Total\"] = df[\"Quantity\"] * df[\"Price\"]\n",
        "\n",
        "# Step 3: Show only Mouse rows\n",
        "print(df[df[\"Product\"] == \"Mouse\"][[\"OrderID\", \"Product\", \"Quantity\", \"Price\", \"Total\"]].to_string(index=False))"
      ],
      "metadata": {
        "colab": {
          "base_uri": "https://localhost:8080/"
        },
        "id": "1tiHrXLt8m0Z",
        "outputId": "177f738f-36a3-4d00-c23e-8ce18999091c"
      },
      "execution_count": 55,
      "outputs": [
        {
          "output_type": "stream",
          "name": "stdout",
          "text": [
            " OrderID Product  Quantity  Price  Total\n",
            "    1002   Mouse         5     30    150\n",
            "    1007   Mouse        10     30    300\n",
            "    1014   Mouse         7     30    210\n"
          ]
        }
      ]
    },
    {
      "cell_type": "code",
      "source": [
        "#4.2. Recalculate \"Total\" for the affected rows\n",
        "\n",
        "# Step 1: Update price of Mouse products\n",
        "df.loc[df[\"Product\"] == \"Mouse\", \"Price\"] = 30  # ← new price assigned\n",
        "\n",
        "# Step 2: Recalculate \"Total\" only for Mouse rows\n",
        "df.loc[df[\"Product\"] == \"Mouse\", \"Total\"] = df.loc[df[\"Product\"] == \"Mouse\", \"Quantity\"] * df.loc[df[\"Product\"] == \"Mouse\", \"Price\"]\n",
        "\n",
        "# Step 3: Show updated Mouse rows with clean formatting\n",
        "print(df[df[\"Product\"] == \"Mouse\"][[\"OrderID\", \"Product\", \"Quantity\", \"Price\", \"Total\"]].to_string(index=False))"
      ],
      "metadata": {
        "colab": {
          "base_uri": "https://localhost:8080/"
        },
        "id": "A0WsC9Bd9HxJ",
        "outputId": "d342202e-0ac8-4710-a502-b3136b693626"
      },
      "execution_count": 62,
      "outputs": [
        {
          "output_type": "stream",
          "name": "stdout",
          "text": [
            " OrderID Product  Quantity  Price  Total\n",
            "    1002   Mouse         5     30    150\n",
            "    1007   Mouse        10     30    300\n",
            "    1014   Mouse         7     30    210\n"
          ]
        }
      ]
    },
    {
      "cell_type": "code",
      "source": [
        "#4.3. Print only the rows where \"Product\"=\"Mouse\" to confirm the update\n",
        "\n",
        "# Step 1: Update price of Mouse products\n",
        "df.loc[df[\"Product\"] == \"Mouse\", \"Price\"] = 30  # New price assigned\n",
        "\n",
        "# Step 2: Recalculate \"Total\" only for Mouse rows\n",
        "df.loc[df[\"Product\"] == \"Mouse\", \"Total\"] = df.loc[df[\"Product\"] == \"Mouse\", \"Quantity\"] * df.loc[df[\"Product\"] == \"Mouse\", \"Price\"]\n",
        "\n",
        "# Step 3: Print only Mouse rows to confirm the update\n",
        "print(df[df[\"Product\"] == \"Mouse\"][[\"OrderID\", \"Product\", \"Quantity\", \"Price\", \"Total\"]].to_string(index=False))"
      ],
      "metadata": {
        "colab": {
          "base_uri": "https://localhost:8080/"
        },
        "id": "9UjfqU0N90b6",
        "outputId": "b7ed19ec-2100-4ce8-b013-8db1bec52c7d"
      },
      "execution_count": 60,
      "outputs": [
        {
          "output_type": "stream",
          "name": "stdout",
          "text": [
            " OrderID Product  Quantity  Price  Total\n",
            "    1002   Mouse         5     30    150\n",
            "    1007   Mouse        10     30    300\n",
            "    1014   Mouse         7     30    210\n"
          ]
        }
      ]
    },
    {
      "cell_type": "code",
      "source": [
        "#5. Deleting a Column\n",
        "\n",
        "df[\"Discount\"] = df[\"Quantity\"].apply(lambda q: 0.10 if q >= 5 else 0)\n",
        "df[\"FinalTotal\"] = df[\"Total\"] - (df[\"Total\"] * df[\"Discount\"])\n",
        "\n",
        "print(df[[\"OrderID\", \"Product\", \"Total\", \"Discount\", \"FinalTotal\"]].head())"
      ],
      "metadata": {
        "colab": {
          "base_uri": "https://localhost:8080/"
        },
        "id": "IAKjzrX_-NR-",
        "outputId": "1d3ff8ee-e315-484e-de85-d512a1c83739"
      },
      "execution_count": 115,
      "outputs": [
        {
          "output_type": "stream",
          "name": "stdout",
          "text": [
            "   OrderID   Product  Total  Discount  FinalTotal\n",
            "0     1001    Laptop   1600       0.0      1600.0\n",
            "1     1002     Mouse    100       0.1        90.0\n",
            "2     1003  Keyboard    150       0.0       150.0\n",
            "3     1004   Monitor    800       0.0       800.0\n",
            "4     1005    Laptop    850       0.0       850.0\n"
          ]
        }
      ]
    },
    {
      "cell_type": "code",
      "source": [
        "#5.1. Delete the \"Discount\" column\n",
        "\n",
        "df[\"Discount\"] = df[\"Quantity\"].apply(lambda q: 0.10 if q >= 5 else 0)\n",
        "df[\"FinalTotal\"] = df[\"Total\"] - (df[\"Total\"] * df[\"Discount\"])\n",
        "\n",
        "# Delete only the \"Discount\" column\n",
        "df = df.drop(columns=[\"Discount\"])\n",
        "\n",
        "print(df[[\"OrderID\", \"Product\", \"Total\", \"FinalTotal\"]].head())"
      ],
      "metadata": {
        "colab": {
          "base_uri": "https://localhost:8080/"
        },
        "id": "ioXY0D58-a40",
        "outputId": "96168350-f9e8-4666-bd82-e04900516290"
      },
      "execution_count": 114,
      "outputs": [
        {
          "output_type": "stream",
          "name": "stdout",
          "text": [
            "   OrderID   Product  Total  FinalTotal\n",
            "0     1001    Laptop   1600      1600.0\n",
            "1     1002     Mouse    100        90.0\n",
            "2     1003  Keyboard    150       150.0\n",
            "3     1004   Monitor    800       800.0\n",
            "4     1005    Laptop    850       850.0\n"
          ]
        }
      ]
    },
    {
      "cell_type": "code",
      "source": [
        "#5.2 Delete the \"FinalTotal\" column\n",
        "\n",
        "df[\"Discount\"] = df[\"Quantity\"].apply(lambda q: 0.10 if q >= 5 else 0)\n",
        "df[\"FinalTotal\"] = df[\"Total\"] - (df[\"Total\"] * df[\"Discount\"])\n",
        "\n",
        "# Delete only the \"Discount\" column\n",
        "df = df.drop(columns=[\"FinalTotal\"])\n",
        "\n",
        "print(df[[\"OrderID\", \"Product\", \"Total\"]].head())"
      ],
      "metadata": {
        "colab": {
          "base_uri": "https://localhost:8080/"
        },
        "id": "Fo77ceBGMS2u",
        "outputId": "2dfddf11-eb90-4b37-99f8-057341524f22"
      },
      "execution_count": 116,
      "outputs": [
        {
          "output_type": "stream",
          "name": "stdout",
          "text": [
            "   OrderID   Product  Total\n",
            "0     1001    Laptop   1600\n",
            "1     1002     Mouse    100\n",
            "2     1003  Keyboard    150\n",
            "3     1004   Monitor    800\n",
            "4     1005    Laptop    850\n"
          ]
        }
      ]
    },
    {
      "cell_type": "code",
      "source": [
        "#5.3. Print the updated DataFrame with only the remaining columns.\n",
        "\n",
        "df[\"Discount\"] = df[\"Quantity\"].apply(lambda q: 0.10 if q >= 5 else 0)\n",
        "df[\"FinalTotal\"] = df[\"Total\"] - (df[\"Total\"] * df[\"Discount\"])\n",
        "\n",
        "# Delete both columns\n",
        "df = df.drop(columns=[\"Discount\"])\n",
        "df = df.drop(columns=[\"FinalTotal\"])\n",
        "\n",
        "# Print the updated DataFrame\n",
        "print(df.head())"
      ],
      "metadata": {
        "colab": {
          "base_uri": "https://localhost:8080/"
        },
        "id": "z4EVCFX1Oi7m",
        "outputId": "1fd2e957-9a4a-4d0a-d9e8-ce51a036b054"
      },
      "execution_count": 120,
      "outputs": [
        {
          "output_type": "stream",
          "name": "stdout",
          "text": [
            "   OrderID   Product     Category  Quantity  Price Customer Region  Total\n",
            "0     1001    Laptop  Electronics         2    800    Alice  North   1600\n",
            "1     1002     Mouse  Accessories         5     20      Bob  South    100\n",
            "2     1003  Keyboard  Accessories         3     50  Charlie   East    150\n",
            "3     1004   Monitor  Electronics         4    200    Diana   West    800\n",
            "4     1005    Laptop  Electronics         1    850    Ethan  North    850\n"
          ]
        }
      ]
    },
    {
      "cell_type": "code",
      "source": [
        "#6. Deleting a Row\n",
        "\n",
        "#6.1. Drop row with OrderID = 1010\n",
        "\n",
        "df = df.drop(df[df[\"OrderID\"] == 1010].index, axis=0)\n",
        "\n",
        "print(df.head())"
      ],
      "metadata": {
        "colab": {
          "base_uri": "https://localhost:8080/"
        },
        "id": "pQzNHH9mPOQQ",
        "outputId": "d0a23272-6a20-42d9-9fdc-a04c0e1195c4"
      },
      "execution_count": 125,
      "outputs": [
        {
          "output_type": "stream",
          "name": "stdout",
          "text": [
            "   OrderID     Product     Category  Quantity  Price Customer Region  Total\n",
            "1     1002       Mouse  Accessories         5     20      Bob  South    100\n",
            "2     1003    Keyboard  Accessories         3     50  Charlie   East    150\n",
            "3     1004     Monitor  Electronics         4    200    Diana   West    800\n",
            "4     1005      Laptop  Electronics         1    850    Ethan  North    850\n",
            "5     1006  Headphones  Accessories         6     40    Fiona  South    240\n"
          ]
        }
      ]
    },
    {
      "cell_type": "code",
      "source": [
        "# 6.2 Delete the first row by index\n",
        "df = df.drop(df.index[0])\n",
        "\n",
        "print(df.head())"
      ],
      "metadata": {
        "colab": {
          "base_uri": "https://localhost:8080/"
        },
        "id": "S1PLLsnkQReG",
        "outputId": "e3571a8c-dba8-49fb-ec2f-900542f7f2b7"
      },
      "execution_count": 128,
      "outputs": [
        {
          "output_type": "stream",
          "name": "stdout",
          "text": [
            "   OrderID     Product     Category  Quantity  Price Customer Region  Total\n",
            "3     1004     Monitor  Electronics         4    200    Diana   West    800\n",
            "4     1005      Laptop  Electronics         1    850    Ethan  North    850\n",
            "5     1006  Headphones  Accessories         6     40    Fiona  South    240\n",
            "6     1007       Mouse  Accessories        10     25   George   East    250\n",
            "7     1008       Chair    Furniture         2    150   Hannah   West    300\n"
          ]
        }
      ]
    },
    {
      "cell_type": "code",
      "source": [
        "# 6.3. Print the new DataFrame shape (rows x columns)\n",
        "print(\"\\nNew shape:\", df.shape)"
      ],
      "metadata": {
        "colab": {
          "base_uri": "https://localhost:8080/"
        },
        "id": "LmDWHYnrQm9c",
        "outputId": "e9e1688b-edd6-46b5-b40a-4544443d3475"
      },
      "execution_count": 129,
      "outputs": [
        {
          "output_type": "stream",
          "name": "stdout",
          "text": [
            "\n",
            "New shape: (16, 8)\n"
          ]
        }
      ]
    },
    {
      "cell_type": "code",
      "source": [
        "# 7. Searching with Conditions\n",
        "\n",
        "# 7.1 Find all rows where \"Category\"=\"Electronics\" AND \"Quantity\">=3\n",
        "\n",
        "result1 = df[(df[\"Category\"] == \"Electronics\") & (df[\"Quantity\"] >= 3)]\n",
        "print(result1, \"\\n\")"
      ],
      "metadata": {
        "colab": {
          "base_uri": "https://localhost:8080/"
        },
        "id": "wrjZRgU4Spo3",
        "outputId": "ba7941db-5532-459c-eb4f-d825fcb69fd5"
      },
      "execution_count": 131,
      "outputs": [
        {
          "output_type": "stream",
          "name": "stdout",
          "text": [
            "    OrderID  Product     Category  Quantity  Price Customer Region  Total\n",
            "3      1004  Monitor  Electronics         4    200    Diana   West    800\n",
            "14     1015   Laptop  Electronics         5    750    Oscar   East   3750\n",
            "17     1018  Monitor  Electronics         4    220   Robert  South    880 \n",
            "\n"
          ]
        }
      ]
    },
    {
      "cell_type": "code",
      "source": [
        "# 7.2 Find all rows where \"Price\">500.\n",
        "\n",
        "result2 = df[df[\"Price\"] > 500]\n",
        "print(result2, \"\\n\")"
      ],
      "metadata": {
        "colab": {
          "base_uri": "https://localhost:8080/"
        },
        "id": "M1lPZNY1TBK_",
        "outputId": "e12c36fe-bf56-49d3-a42e-b577aa2c53c4"
      },
      "execution_count": 133,
      "outputs": [
        {
          "output_type": "stream",
          "name": "stdout",
          "text": [
            "    OrderID Product     Category  Quantity  Price Customer Region  Total\n",
            "4      1005  Laptop  Electronics         1    850    Ethan  North    850\n",
            "14     1015  Laptop  Electronics         5    750    Oscar   East   3750 \n",
            "\n"
          ]
        }
      ]
    },
    {
      "cell_type": "code",
      "source": [
        "# 7.3 Count how many orders came from the \"North\" region.\n",
        "\n",
        "count_north = df[df[\"Region\"] == \"North\"].shape[0]\n",
        "print(count_north)"
      ],
      "metadata": {
        "colab": {
          "base_uri": "https://localhost:8080/"
        },
        "id": "-PmxyRYXTVYn",
        "outputId": "4c7653ae-80a5-4127-d65a-29e1e396435b"
      },
      "execution_count": 135,
      "outputs": [
        {
          "output_type": "stream",
          "name": "stdout",
          "text": [
            "4\n"
          ]
        }
      ]
    },
    {
      "cell_type": "code",
      "source": [
        "# 8. Filtering Specific Values\n",
        "\n",
        "# 8.1 Display all sales from the \"West\" region\n",
        "\n",
        "west_sales = df[df[\"Region\"] == \"West\"]\n",
        "print(west_sales, \"\\n\")\n"
      ],
      "metadata": {
        "colab": {
          "base_uri": "https://localhost:8080/"
        },
        "id": "NoZgPgs_Tldz",
        "outputId": "4477330b-5f51-48ec-d1a2-908622f51abc"
      },
      "execution_count": 137,
      "outputs": [
        {
          "output_type": "stream",
          "name": "stdout",
          "text": [
            "    OrderID     Product     Category  Quantity  Price Customer Region  Total\n",
            "3      1004     Monitor  Electronics         4    200    Diana   West    800\n",
            "7      1008       Chair    Furniture         2    150   Hannah   West    300\n",
            "11     1012    Keyboard  Accessories         4     55    Laura   West    220\n",
            "15     1016  Headphones  Accessories         3     35     Paul   West    105\n",
            "19     1020       Chair    Furniture         6    180      Tom   West   1080 \n",
            "\n"
          ]
        }
      ]
    },
    {
      "cell_type": "code",
      "source": [
        "# 8.2 Display all sales made by the customer \"Alice\".\n",
        "\n",
        "alice_sales = df[df[\"Customer\"] == \"Alice\"]\n",
        "print(alice_sales if not alice_sales.empty else \"No sales found for Alice.\\n\")\n"
      ],
      "metadata": {
        "colab": {
          "base_uri": "https://localhost:8080/"
        },
        "id": "TbfuyquCT6dI",
        "outputId": "5b1e1ed6-e738-4ba9-9db5-d294473b4031"
      },
      "execution_count": 140,
      "outputs": [
        {
          "output_type": "stream",
          "name": "stdout",
          "text": [
            "8.2 Sales by Alice:\n",
            "\n",
            "No sales found for Alice.\n",
            "\n"
          ]
        }
      ]
    },
    {
      "cell_type": "code",
      "source": [
        "# 8.3\tDisplay all sales where \"Product\" IN [\"Laptop\", \"Printer\"].Sales of Laptop or Printer\n",
        "\n",
        "subset_sales = df[df[\"Product\"].isin([\"Laptop\", \"Printer\"])]\n",
        "print(subset_sales, \"\\n\")"
      ],
      "metadata": {
        "colab": {
          "base_uri": "https://localhost:8080/"
        },
        "id": "I1ZmS1QyYRK1",
        "outputId": "cab49153-61d3-4910-8f75-4f97b4488074"
      },
      "execution_count": 142,
      "outputs": [
        {
          "output_type": "stream",
          "name": "stdout",
          "text": [
            "    OrderID  Product     Category  Quantity  Price Customer Region  Total\n",
            "4      1005   Laptop  Electronics         1    850    Ethan  North    850\n",
            "10     1011  Printer  Electronics         2    120     Kyle   East    240\n",
            "14     1015   Laptop  Electronics         5    750    Oscar   East   3750\n",
            "18     1019  Printer  Electronics         1    110    Sarah   East    110 \n",
            "\n"
          ]
        }
      ]
    },
    {
      "cell_type": "code",
      "source": [
        "# 9. Updating Values Based on Condition\n",
        "\n",
        "print(df[df[\"Category\"] == \"Furniture\"][[\"OrderID\", \"Product\", \"Quantity\", \"Price\", \"Total\"]])"
      ],
      "metadata": {
        "colab": {
          "base_uri": "https://localhost:8080/"
        },
        "id": "HShP_m8rYs5F",
        "outputId": "faa2ae8d-b73a-462d-884a-9e55740e5d21"
      },
      "execution_count": 157,
      "outputs": [
        {
          "output_type": "stream",
          "name": "stdout",
          "text": [
            "    OrderID Product  Quantity        Price        Total\n",
            "7      1008   Chair         2   517.840682  1035.681364\n",
            "8      1009    Desk         1  1035.681364  1035.681364\n",
            "16     1017    Desk         2   966.635940  1933.271880\n",
            "19     1020   Chair         6   621.408819  3728.452912\n"
          ]
        }
      ]
    },
    {
      "cell_type": "code",
      "source": [
        "#9.1.\tIncrease \"Price\" of all \"Furniture\" products by 10%\n",
        "\n",
        "df.loc[df[\"Category\"] == \"Furniture\", \"Price\"] *= 1.10\n",
        "\n",
        "print(df[df[\"Category\"] == \"Furniture\"][[\"OrderID\", \"Product\", \"Price\"]])"
      ],
      "metadata": {
        "colab": {
          "base_uri": "https://localhost:8080/"
        },
        "id": "qu7J0NlEbVbG",
        "outputId": "332eb343-42d7-4f9c-a8d9-dabe121bb680"
      },
      "execution_count": 161,
      "outputs": [
        {
          "output_type": "stream",
          "name": "stdout",
          "text": [
            "    OrderID Product      Price\n",
            "7      1008   Chair   758.1618\n",
            "8      1009    Desk  1516.3478\n",
            "16     1017    Desk  1415.2523\n",
            "19     1020   Chair   909.7990\n"
          ]
        }
      ]
    },
    {
      "cell_type": "code",
      "source": [
        "#9.2. Recalculate the \"Total\" for those updated rows\n",
        "\n",
        "df[\"Total\"] = df[\"Quantity\"] * df[\"Price\"]\n",
        "\n",
        "print(df[df[\"Category\"] == \"Furniture\"][[\"OrderID\", \"Product\", \"Quantity\", \"Price\", \"Total\"]])"
      ],
      "metadata": {
        "colab": {
          "base_uri": "https://localhost:8080/"
        },
        "id": "bRamlbZJb1Hu",
        "outputId": "33b63618-fb47-401a-f671-e6410f8ddb73"
      },
      "execution_count": 163,
      "outputs": [
        {
          "output_type": "stream",
          "name": "stdout",
          "text": [
            "    OrderID Product  Quantity      Price      Total\n",
            "7      1008   Chair         2   758.1618  1516.3236\n",
            "8      1009    Desk         1  1516.3478  1516.3478\n",
            "16     1017    Desk         2  1415.2523  2830.5046\n",
            "19     1020   Chair         6   909.7990  5458.7940\n"
          ]
        }
      ]
    },
    {
      "cell_type": "code",
      "source": [
        "#9.3. Show only the updated \"Furniture\" rows to confirm changes.\n",
        "\n",
        "print(df[df[\"Category\"] == \"Furniture\"])"
      ],
      "metadata": {
        "colab": {
          "base_uri": "https://localhost:8080/"
        },
        "id": "j4zQXR5zcJyw",
        "outputId": "e12d0778-5515-4caa-cffd-6401ab14f052"
      },
      "execution_count": 165,
      "outputs": [
        {
          "output_type": "stream",
          "name": "stdout",
          "text": [
            "    OrderID Product   Category  Quantity      Price Customer Region      Total\n",
            "7      1008   Chair  Furniture         2   758.1618   Hannah   West  1516.3236\n",
            "8      1009    Desk  Furniture         1  1516.3478      Ian  North  1516.3478\n",
            "16     1017    Desk  Furniture         2  1415.2523    Queen  North  2830.5046\n",
            "19     1020   Chair  Furniture         6   909.7990      Tom   West  5458.7940\n"
          ]
        }
      ]
    },
    {
      "cell_type": "code",
      "source": [
        "#10. Sorting the DataFrame\n",
        "\n",
        "#10.1. Sort the DataFrame by \"Total\" in descending order.\n",
        "\n",
        "sorted_df = df.sort_values(by=\"Total\", ascending=False)\n",
        "print(sorted_df.head(), \"\\n\")"
      ],
      "metadata": {
        "colab": {
          "base_uri": "https://localhost:8080/"
        },
        "id": "n0fpbkm5cb9W",
        "outputId": "84d5a638-d16b-41c1-aaef-fbbdf38ea178"
      },
      "execution_count": 167,
      "outputs": [
        {
          "output_type": "stream",
          "name": "stdout",
          "text": [
            "    OrderID Product     Category  Quantity      Price Customer Region  \\\n",
            "19     1020   Chair    Furniture         6   909.7990      Tom   West   \n",
            "14     1015  Laptop  Electronics         5   750.0000    Oscar   East   \n",
            "16     1017    Desk    Furniture         2  1415.2523    Queen  North   \n",
            "8      1009    Desk    Furniture         1  1516.3478      Ian  North   \n",
            "7      1008   Chair    Furniture         2   758.1618   Hannah   West   \n",
            "\n",
            "        Total  \n",
            "19  5458.7940  \n",
            "14  3750.0000  \n",
            "16  2830.5046  \n",
            "8   1516.3478  \n",
            "7   1516.3236   \n",
            "\n"
          ]
        }
      ]
    },
    {
      "cell_type": "code",
      "source": [
        "#10.2. Display the top 5 sales orders\n",
        "\n",
        "print(sorted_df.head(5), \"\\n\")"
      ],
      "metadata": {
        "colab": {
          "base_uri": "https://localhost:8080/"
        },
        "id": "tIQxTv6wdWPE",
        "outputId": "9b93904e-ef3f-4f45-d439-3dda9ef7dc13"
      },
      "execution_count": 169,
      "outputs": [
        {
          "output_type": "stream",
          "name": "stdout",
          "text": [
            "    OrderID Product     Category  Quantity      Price Customer Region  \\\n",
            "19     1020   Chair    Furniture         6   909.7990      Tom   West   \n",
            "14     1015  Laptop  Electronics         5   750.0000    Oscar   East   \n",
            "16     1017    Desk    Furniture         2  1415.2523    Queen  North   \n",
            "8      1009    Desk    Furniture         1  1516.3478      Ian  North   \n",
            "7      1008   Chair    Furniture         2   758.1618   Hannah   West   \n",
            "\n",
            "        Total  \n",
            "19  5458.7940  \n",
            "14  3750.0000  \n",
            "16  2830.5046  \n",
            "8   1516.3478  \n",
            "7   1516.3236   \n",
            "\n"
          ]
        }
      ]
    },
    {
      "cell_type": "code",
      "source": [
        "#10.3. Sort the DataFrame by \"Region\" and then by \"Customer\" (multi-level sort)\n",
        "\n",
        "multi_sort = df.sort_values(by=[\"Region\", \"Customer\"])\n",
        "print(multi_sort.head())"
      ],
      "metadata": {
        "colab": {
          "base_uri": "https://localhost:8080/"
        },
        "id": "Hx_CRFRUdniE",
        "outputId": "84e9029c-2fa4-4b6d-9e48-94b958265e8d"
      },
      "execution_count": 171,
      "outputs": [
        {
          "output_type": "stream",
          "name": "stdout",
          "text": [
            "    OrderID  Product     Category  Quantity  Price Customer Region   Total\n",
            "6      1007    Mouse  Accessories        10   25.0   George   East   250.0\n",
            "10     1011  Printer  Electronics         2  120.0     Kyle   East   240.0\n",
            "14     1015   Laptop  Electronics         5  750.0    Oscar   East  3750.0\n",
            "18     1019  Printer  Electronics         1  110.0    Sarah   East   110.0\n",
            "4      1005   Laptop  Electronics         1  850.0    Ethan  North   850.0\n"
          ]
        }
      ]
    }
  ]
}